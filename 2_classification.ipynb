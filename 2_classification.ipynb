{
 "cells": [
  {
   "cell_type": "markdown",
   "source": [
    "# Classification using HuggingFace's recommended setup"
   ],
   "metadata": {}
  },
  {
   "cell_type": "markdown",
   "source": [
    "### 1) Configuration"
   ],
   "metadata": {}
  },
  {
   "cell_type": "code",
   "execution_count": null,
   "source": [
    "import torch\n",
    "import numpy as np\n",
    "\n",
    "RANDOM_SEED = 42\n",
    "\n",
    "BATCH_SIZE = 16\n",
    "NUM_EPOCHS = 2\n",
    "N_LABELS = 3\n",
    "CHECKPOINT = 'neuralmind/bert-base-portuguese-cased'\n",
    "CHECKPOINT = 'bert-base-multilingual-cased'\n",
    "OUTPUTS_FOLDER = 'DS1/bert-base-multilingual-cased'\n",
    "DATASET_FOLDER = 'DS1'\n",
    "\n",
    "np.random.seed(RANDOM_SEED)\n",
    "torch.manual_seed(RANDOM_SEED)\n",
    "\n",
    "device = torch.device('cuda') if torch.cuda.is_available() else torch.device('cpu')\n",
    "device"
   ],
   "outputs": [],
   "metadata": {}
  },
  {
   "cell_type": "code",
   "execution_count": null,
   "source": [
    "from transformers import AutoModelForSequenceClassification, AutoTokenizer, DataCollatorWithPadding\n",
    "\n",
    "model = AutoModelForSequenceClassification.from_pretrained(CHECKPOINT, num_labels=N_LABELS)\n",
    "tokenizer = AutoTokenizer.from_pretrained(CHECKPOINT)\n",
    "data_collator = DataCollatorWithPadding(tokenizer=tokenizer)\n",
    "\n",
    "def tokenize_function(instance):\n",
    "    return tokenizer(instance['tweet'], truncation=True)"
   ],
   "outputs": [],
   "metadata": {}
  },
  {
   "cell_type": "markdown",
   "source": [
    "### 2) Dataset loading"
   ],
   "metadata": {}
  },
  {
   "cell_type": "code",
   "execution_count": null,
   "source": [
    "from datasets import load_dataset\n",
    "\n",
    "dataset = load_dataset(\n",
    "    'csv',\n",
    "    data_files={\n",
    "        'train': f'./datasets/{DATASET_FOLDER}/train_dataset.csv',\n",
    "        f'val': f'./datasets/{DATASET_FOLDER}/val_dataset.csv',\n",
    "        f'test': f'./datasets/{DATASET_FOLDER}/test_dataset.csv',\n",
    "    }\n",
    ")\n",
    "dataset"
   ],
   "outputs": [],
   "metadata": {}
  },
  {
   "cell_type": "markdown",
   "source": [
    "### 3) Tokenization and preprocessing"
   ],
   "metadata": {}
  },
  {
   "cell_type": "code",
   "execution_count": null,
   "source": [
    "tokenized_data = dataset.map(tokenize_function, batched=True)\n",
    "tokenized_data"
   ],
   "outputs": [],
   "metadata": {}
  },
  {
   "cell_type": "code",
   "execution_count": null,
   "source": [
    "original_test_data = tokenized_data['test']\n",
    "tokenized_data = tokenized_data.remove_columns(\n",
    "    ['tweet']\n",
    ")\n",
    "tokenized_data = tokenized_data.rename_column('label', 'labels')\n",
    "tokenized_data.set_format('torch')\n",
    "tokenized_data['train'].column_names"
   ],
   "outputs": [],
   "metadata": {}
  },
  {
   "cell_type": "code",
   "execution_count": null,
   "source": [
    "from torch.utils.data import DataLoader\n",
    "\n",
    "train_dataloader = DataLoader(\n",
    "    tokenized_data['train'], shuffle=True, batch_size=BATCH_SIZE, collate_fn=data_collator\n",
    ")\n",
    "val_dataloader = DataLoader(\n",
    "    tokenized_data['val'], batch_size=BATCH_SIZE, collate_fn=data_collator\n",
    ")\n",
    "test_dataloader = DataLoader(\n",
    "    tokenized_data['test'], batch_size=BATCH_SIZE, collate_fn=data_collator\n",
    ")"
   ],
   "outputs": [],
   "metadata": {}
  },
  {
   "cell_type": "code",
   "execution_count": null,
   "source": [
    "for batch in train_dataloader:\n",
    "    break\n",
    "{k: v.shape for k, v in batch.items()}"
   ],
   "outputs": [],
   "metadata": {}
  },
  {
   "cell_type": "code",
   "execution_count": null,
   "source": [
    "import time\n",
    "import datetime\n",
    "\n",
    "def format_time(elapsed):\n",
    "    '''\n",
    "    Takes a time in seconds and returns a string hh:mm:ss\n",
    "    '''\n",
    "    # Round to the nearest second.\n",
    "    elapsed_rounded = int(round((elapsed)))\n",
    "    # Format as hh:mm:ss\n",
    "    return str(datetime.timedelta(seconds=elapsed_rounded))\n",
    "\n",
    "\n",
    "def compute_metrics(metrics):\n",
    "    for name, metric in metrics.items():\n",
    "        if name == 'accuracy':\n",
    "            print(f'  {name[0].upper()}{name[1:]}:', \"{0:.4f}\".format(metric.compute()[name]))\n",
    "            continue\n",
    "        print(f'  {name[0].upper()}{name[1:]}:', \"{0:.4f}\".format(metric.compute(average='weighted')[name]))\n",
    "    print('')"
   ],
   "outputs": [],
   "metadata": {}
  },
  {
   "cell_type": "code",
   "execution_count": null,
   "source": [
    "from transformers import AdamW, get_scheduler\n",
    "from datasets import load_metric\n",
    "\n",
    "# Set the seed value all over the place to make this reproducible.\n",
    "np.random.seed(RANDOM_SEED)\n",
    "torch.manual_seed(RANDOM_SEED)\n",
    "torch.cuda.manual_seed_all(RANDOM_SEED)\n",
    "\n",
    "optimizer = AdamW(model.parameters(), lr=3e-5)\n",
    "\n",
    "model.to(device)\n",
    "\n",
    "num_training_steps = NUM_EPOCHS * len(train_dataloader)\n",
    "lr_scheduler = get_scheduler(\n",
    "    \"linear\",\n",
    "    optimizer=optimizer,\n",
    "    num_warmup_steps=0,\n",
    "    num_training_steps=num_training_steps\n",
    ")\n",
    "\n",
    "# Measure the total training time for the whole run.\n",
    "total_t0 = time.time()\n",
    "\n",
    "metrics = {\n",
    "    'accuracy': load_metric('accuracy'),\n",
    "    'precision': load_metric('precision'),\n",
    "    'recall': load_metric('recall'),\n",
    "    'f1': load_metric('f1'),\n",
    "}\n",
    "\n",
    "for epoch_i in range(NUM_EPOCHS):\n",
    "    \n",
    "    print(\"\")\n",
    "    print('======== Epoch {:} / {:} ========'.format(epoch_i + 1, NUM_EPOCHS))\n",
    "    \n",
    "    # ========================================\n",
    "    #               Training\n",
    "    # ========================================\n",
    "    print('')\n",
    "    print('Training...')\n",
    "    \n",
    "    # Measure how long the training epoch takes.\n",
    "    t0 = time.time()\n",
    "    \n",
    "    model.train()\n",
    "    for step, batch in enumerate(train_dataloader):\n",
    "        # Progress update every 20 batches.\n",
    "        if step % 20 == 0 and not step == 0:\n",
    "            # Calculate elapsed time in minutes.\n",
    "            elapsed = format_time(time.time() - t0)\n",
    "            # Report progress.\n",
    "            print('  Batch {:>5,}  of  {:>5,}.    Elapsed: {:}.'.format(step, len(train_dataloader), elapsed))\n",
    "            \n",
    "        batch = { k: v.to(device) for k, v in batch.items() }\n",
    "        outputs = model(**batch)\n",
    "        loss = outputs.loss\n",
    "        loss.backward()\n",
    "        \n",
    "        optimizer.step()\n",
    "        lr_scheduler.step()\n",
    "        optimizer.zero_grad()\n",
    "        \n",
    "    # Measure how long this training epoch took.\n",
    "    training_time = format_time(time.time() - t0)\n",
    "    print('')\n",
    "    print(\"  Training took: {:}\".format(training_time))\n",
    " \n",
    "\n",
    "    # ========================================\n",
    "    #               Validation\n",
    "    # ========================================\n",
    "    # After the completion of each training epoch, measure our performance on\n",
    "    # our validation set.\n",
    "    print('')\n",
    "    print('Validation...')\n",
    "    \n",
    "    t0 = time.time()    \n",
    "    \n",
    "    eval_metrics = metrics\n",
    "    \n",
    "    model.eval()\n",
    "    \n",
    "    for batch in val_dataloader:\n",
    "        batch = {k: v.to(device) for k, v in batch.items()}\n",
    "        with torch.no_grad():\n",
    "            outputs = model(**batch)\n",
    "\n",
    "        logits = outputs.logits\n",
    "        predictions = torch.argmax(logits, dim=-1)\n",
    "        \n",
    "        for _, metric in eval_metrics.items():\n",
    "            metric.add_batch(predictions=predictions, references=batch['labels'])\n",
    "\n",
    "    compute_metrics(eval_metrics)\n",
    "    \n",
    "    # Measure how long the validation run took.\n",
    "    validation_time = format_time(time.time() - t0)\n",
    "    print(\"  Validation took: {:}\".format(validation_time))\n",
    "\n",
    "print('Training complete!')\n",
    "print('Total training took {:} (h:mm:ss)'.format(format_time(time.time() - total_t0)))"
   ],
   "outputs": [],
   "metadata": {}
  },
  {
   "cell_type": "code",
   "execution_count": null,
   "source": [
    "model.save_pretrained(save_directory=f'./outputs/{OUTPUTS_FOLDER}/model')"
   ],
   "outputs": [],
   "metadata": {}
  },
  {
   "cell_type": "code",
   "execution_count": null,
   "source": [
    "print('Testing...')\n",
    "\n",
    "t0 = time.time()    \n",
    "\n",
    "eval_metrics = metrics\n",
    "\n",
    "model.eval()\n",
    "\n",
    "test_results = {\n",
    "    'tweet': [],\n",
    "    'got': [],\n",
    "    'expected': [],\n",
    "}\n",
    "\n",
    "for i, batch in enumerate(test_dataloader):\n",
    "    \n",
    "    batch = {k: v.to(device) for k, v in batch.items()}    \n",
    "        \n",
    "    with torch.no_grad():\n",
    "        outputs = model(**batch)\n",
    "        \n",
    "    logits = outputs.logits\n",
    "    predictions = torch.argmax(logits, dim=-1)\n",
    "    \n",
    "    for j in range(len(batch['labels'])):\n",
    "        index = (i * BATCH_SIZE) + j\n",
    "        test_results['tweet'].append(original_test_data['tweet'][index])\n",
    "        test_results['got'].append(predictions[j].item())\n",
    "        test_results['expected'].append(batch['labels'][j].item())\n",
    "        \n",
    "        # This is just for testing\n",
    "        if batch['labels'][j] != original_test_data['label'][index]:\n",
    "            print('FALSE')\n",
    "\n",
    "    for _, metric in eval_metrics.items():\n",
    "        metric.add_batch(predictions=predictions, references=batch['labels'])\n",
    "\n",
    "compute_metrics(eval_metrics)\n",
    "\n",
    "# Measure how long the testing run took.\n",
    "testing_time = format_time(time.time() - t0)\n",
    "print(\"  Testing took: {:}\".format(testing_time))"
   ],
   "outputs": [],
   "metadata": {}
  },
  {
   "cell_type": "code",
   "execution_count": null,
   "source": [
    "import pandas as pd\n",
    "\n",
    "test_results_df = pd.DataFrame(test_results)\n",
    "test_results_df.to_csv(f'./outputs/{OUTPUTS_FOLDER}/test_results.csv', index=None)\n",
    "test_results_df"
   ],
   "outputs": [],
   "metadata": {}
  }
 ],
 "metadata": {
  "kernelspec": {
   "display_name": "Python 3",
   "language": "python",
   "name": "python3"
  },
  "language_info": {
   "codemirror_mode": {
    "name": "ipython",
    "version": 3
   },
   "file_extension": ".py",
   "mimetype": "text/x-python",
   "name": "python",
   "nbconvert_exporter": "python",
   "pygments_lexer": "ipython3",
   "version": "3.8.3"
  }
 },
 "nbformat": 4,
 "nbformat_minor": 4
}